{
 "cells": [
  {
   "cell_type": "code",
   "execution_count": 1,
   "metadata": {
    "scrolled": true
   },
   "outputs": [
    {
     "name": "stdout",
     "output_type": "stream",
     "text": [
      "./input/gearbox-fault-diagnosis-stdev/broken30hz60.csv\n",
      "./input/gearbox-fault-diagnosis-stdev/healthy30hz70.csv\n",
      "./input/gearbox-fault-diagnosis-stdev/broken30hz70.csv\n",
      "./input/gearbox-fault-diagnosis-stdev/healthy30hz30.csv\n",
      "./input/gearbox-fault-diagnosis-stdev/broken30hz10.csv\n",
      "./input/gearbox-fault-diagnosis-stdev/healthy30hz60.csv\n",
      "./input/gearbox-fault-diagnosis-stdev/broken30hz40.csv\n",
      "./input/gearbox-fault-diagnosis-stdev/healthy30hz0.csv\n",
      "./input/gearbox-fault-diagnosis-stdev/healthy30hz90.csv\n",
      "./input/gearbox-fault-diagnosis-stdev/healthy30hz20.csv\n",
      "./input/gearbox-fault-diagnosis-stdev/healthy30hz10.csv\n",
      "./input/gearbox-fault-diagnosis-stdev/broken30hz20.csv\n",
      "./input/gearbox-fault-diagnosis-stdev/broken30hz90.csv\n",
      "./input/gearbox-fault-diagnosis-stdev/healthy30hz80.csv\n",
      "./input/gearbox-fault-diagnosis-stdev/healthy30hz50.csv\n",
      "./input/gearbox-fault-diagnosis-stdev/broken30hz80.csv\n",
      "./input/gearbox-fault-diagnosis-stdev/broken30hz30.csv\n",
      "./input/gearbox-fault-diagnosis-stdev/healthy30hz40.csv\n",
      "./input/gearbox-fault-diagnosis-stdev/broken30hz0.csv\n",
      "./input/gearbox-fault-diagnosis-stdev/broken30hz50.csv\n"
     ]
    }
   ],
   "source": [
    "import numpy as np # linear algebra\n",
    "import pandas as pd # data processing, CSV file I/O (e.g. pd.read_csv)\n",
    "from scipy import stats\n",
    "\n",
    "import matplotlib.pyplot as plt\n",
    "import matplotlib.gridspec as gridspec\n",
    "import seaborn as sns\n",
    "from pylab import rcParams\n",
    "\n",
    "import os\n",
    "for dirname, _, filenames in os.walk('./input/gearbox-fault-diagnosis-stdev'):\n",
    "    for filename in filenames:\n",
    "        print(os.path.join(dirname, filename))"
   ]
  },
  {
   "cell_type": "markdown",
   "metadata": {},
   "source": [
    "# Build dataset\n",
    "#### Anomalies taken from a small % of broken dataset"
   ]
  },
  {
   "cell_type": "code",
   "execution_count": 2,
   "metadata": {},
   "outputs": [],
   "source": [
    "# Setting the percentage of outliers. Required to run the KNN algorithm\n",
    "outlier_fraction = 0.1"
   ]
  },
  {
   "cell_type": "code",
   "execution_count": 3,
   "metadata": {},
   "outputs": [
    {
     "data": {
      "text/html": [
       "<div>\n",
       "<style scoped>\n",
       "    .dataframe tbody tr th:only-of-type {\n",
       "        vertical-align: middle;\n",
       "    }\n",
       "\n",
       "    .dataframe tbody tr th {\n",
       "        vertical-align: top;\n",
       "    }\n",
       "\n",
       "    .dataframe thead th {\n",
       "        text-align: right;\n",
       "    }\n",
       "</style>\n",
       "<table border=\"1\" class=\"dataframe\">\n",
       "  <thead>\n",
       "    <tr style=\"text-align: right;\">\n",
       "      <th></th>\n",
       "      <th>a1</th>\n",
       "      <th>a2</th>\n",
       "      <th>a3</th>\n",
       "      <th>a4</th>\n",
       "      <th>load</th>\n",
       "      <th>failure</th>\n",
       "    </tr>\n",
       "  </thead>\n",
       "  <tbody>\n",
       "    <tr>\n",
       "      <th>count</th>\n",
       "      <td>1108.000000</td>\n",
       "      <td>1108.000000</td>\n",
       "      <td>1108.000000</td>\n",
       "      <td>1108.000000</td>\n",
       "      <td>1108.0</td>\n",
       "      <td>1108.0</td>\n",
       "    </tr>\n",
       "    <tr>\n",
       "      <th>mean</th>\n",
       "      <td>7.268090</td>\n",
       "      <td>4.288789</td>\n",
       "      <td>4.172190</td>\n",
       "      <td>4.605306</td>\n",
       "      <td>50.0</td>\n",
       "      <td>0.0</td>\n",
       "    </tr>\n",
       "    <tr>\n",
       "      <th>std</th>\n",
       "      <td>1.993054</td>\n",
       "      <td>1.234031</td>\n",
       "      <td>0.922876</td>\n",
       "      <td>1.084340</td>\n",
       "      <td>0.0</td>\n",
       "      <td>0.0</td>\n",
       "    </tr>\n",
       "    <tr>\n",
       "      <th>min</th>\n",
       "      <td>2.854794</td>\n",
       "      <td>2.144350</td>\n",
       "      <td>1.988760</td>\n",
       "      <td>2.149742</td>\n",
       "      <td>50.0</td>\n",
       "      <td>0.0</td>\n",
       "    </tr>\n",
       "    <tr>\n",
       "      <th>25%</th>\n",
       "      <td>5.857885</td>\n",
       "      <td>3.448332</td>\n",
       "      <td>3.486898</td>\n",
       "      <td>3.854406</td>\n",
       "      <td>50.0</td>\n",
       "      <td>0.0</td>\n",
       "    </tr>\n",
       "    <tr>\n",
       "      <th>50%</th>\n",
       "      <td>6.884173</td>\n",
       "      <td>4.013817</td>\n",
       "      <td>4.057842</td>\n",
       "      <td>4.513311</td>\n",
       "      <td>50.0</td>\n",
       "      <td>0.0</td>\n",
       "    </tr>\n",
       "    <tr>\n",
       "      <th>75%</th>\n",
       "      <td>8.362701</td>\n",
       "      <td>4.801967</td>\n",
       "      <td>4.704796</td>\n",
       "      <td>5.251557</td>\n",
       "      <td>50.0</td>\n",
       "      <td>0.0</td>\n",
       "    </tr>\n",
       "    <tr>\n",
       "      <th>max</th>\n",
       "      <td>17.739845</td>\n",
       "      <td>9.528165</td>\n",
       "      <td>7.647036</td>\n",
       "      <td>9.902024</td>\n",
       "      <td>50.0</td>\n",
       "      <td>0.0</td>\n",
       "    </tr>\n",
       "  </tbody>\n",
       "</table>\n",
       "</div>"
      ],
      "text/plain": [
       "                a1           a2           a3           a4    load  failure\n",
       "count  1108.000000  1108.000000  1108.000000  1108.000000  1108.0   1108.0\n",
       "mean      7.268090     4.288789     4.172190     4.605306    50.0      0.0\n",
       "std       1.993054     1.234031     0.922876     1.084340     0.0      0.0\n",
       "min       2.854794     2.144350     1.988760     2.149742    50.0      0.0\n",
       "25%       5.857885     3.448332     3.486898     3.854406    50.0      0.0\n",
       "50%       6.884173     4.013817     4.057842     4.513311    50.0      0.0\n",
       "75%       8.362701     4.801967     4.704796     5.251557    50.0      0.0\n",
       "max      17.739845     9.528165     7.647036     9.902024    50.0      0.0"
      ]
     },
     "execution_count": 3,
     "metadata": {},
     "output_type": "execute_result"
    }
   ],
   "source": [
    "# LOAD DATASETS CORRESPONDING TO 50% LOAD\n",
    "# Healthy gearbox\n",
    "# ---------------\n",
    "#  STDEV version (computed every 100 points)\n",
    "healthy_dataset = pd.read_csv(\"./input/gearbox-fault-diagnosis-stdev/healthy30hz50.csv\")\n",
    "#  RAW version\n",
    "#healthy_dataset = pd.read_csv(\"./input/gearbox-fault-diagnosis/Healthy/h30hz50.csv\")\n",
    "#healthy_dataset['failure'] = 0\n",
    "\n",
    "healthy_dataset.describe()"
   ]
  },
  {
   "cell_type": "code",
   "execution_count": 4,
   "metadata": {},
   "outputs": [
    {
     "data": {
      "text/html": [
       "<div>\n",
       "<style scoped>\n",
       "    .dataframe tbody tr th:only-of-type {\n",
       "        vertical-align: middle;\n",
       "    }\n",
       "\n",
       "    .dataframe tbody tr th {\n",
       "        vertical-align: top;\n",
       "    }\n",
       "\n",
       "    .dataframe thead th {\n",
       "        text-align: right;\n",
       "    }\n",
       "</style>\n",
       "<table border=\"1\" class=\"dataframe\">\n",
       "  <thead>\n",
       "    <tr style=\"text-align: right;\">\n",
       "      <th></th>\n",
       "      <th>a1</th>\n",
       "      <th>a2</th>\n",
       "      <th>a3</th>\n",
       "      <th>a4</th>\n",
       "      <th>load</th>\n",
       "      <th>failure</th>\n",
       "    </tr>\n",
       "  </thead>\n",
       "  <tbody>\n",
       "    <tr>\n",
       "      <th>count</th>\n",
       "      <td>942.000000</td>\n",
       "      <td>942.000000</td>\n",
       "      <td>942.000000</td>\n",
       "      <td>942.000000</td>\n",
       "      <td>942.0</td>\n",
       "      <td>942.0</td>\n",
       "    </tr>\n",
       "    <tr>\n",
       "      <th>mean</th>\n",
       "      <td>4.676300</td>\n",
       "      <td>4.299412</td>\n",
       "      <td>3.836887</td>\n",
       "      <td>4.452099</td>\n",
       "      <td>50.0</td>\n",
       "      <td>1.0</td>\n",
       "    </tr>\n",
       "    <tr>\n",
       "      <th>std</th>\n",
       "      <td>0.918391</td>\n",
       "      <td>0.760176</td>\n",
       "      <td>0.837073</td>\n",
       "      <td>1.033417</td>\n",
       "      <td>0.0</td>\n",
       "      <td>0.0</td>\n",
       "    </tr>\n",
       "    <tr>\n",
       "      <th>min</th>\n",
       "      <td>2.439092</td>\n",
       "      <td>2.309923</td>\n",
       "      <td>1.977171</td>\n",
       "      <td>2.072062</td>\n",
       "      <td>50.0</td>\n",
       "      <td>1.0</td>\n",
       "    </tr>\n",
       "    <tr>\n",
       "      <th>25%</th>\n",
       "      <td>4.013755</td>\n",
       "      <td>3.740949</td>\n",
       "      <td>3.234695</td>\n",
       "      <td>3.717427</td>\n",
       "      <td>50.0</td>\n",
       "      <td>1.0</td>\n",
       "    </tr>\n",
       "    <tr>\n",
       "      <th>50%</th>\n",
       "      <td>4.594709</td>\n",
       "      <td>4.223440</td>\n",
       "      <td>3.737946</td>\n",
       "      <td>4.332033</td>\n",
       "      <td>50.0</td>\n",
       "      <td>1.0</td>\n",
       "    </tr>\n",
       "    <tr>\n",
       "      <th>75%</th>\n",
       "      <td>5.267174</td>\n",
       "      <td>4.802620</td>\n",
       "      <td>4.372440</td>\n",
       "      <td>5.057766</td>\n",
       "      <td>50.0</td>\n",
       "      <td>1.0</td>\n",
       "    </tr>\n",
       "    <tr>\n",
       "      <th>max</th>\n",
       "      <td>8.389931</td>\n",
       "      <td>7.012691</td>\n",
       "      <td>6.540796</td>\n",
       "      <td>8.843477</td>\n",
       "      <td>50.0</td>\n",
       "      <td>1.0</td>\n",
       "    </tr>\n",
       "  </tbody>\n",
       "</table>\n",
       "</div>"
      ],
      "text/plain": [
       "               a1          a2          a3          a4   load  failure\n",
       "count  942.000000  942.000000  942.000000  942.000000  942.0    942.0\n",
       "mean     4.676300    4.299412    3.836887    4.452099   50.0      1.0\n",
       "std      0.918391    0.760176    0.837073    1.033417    0.0      0.0\n",
       "min      2.439092    2.309923    1.977171    2.072062   50.0      1.0\n",
       "25%      4.013755    3.740949    3.234695    3.717427   50.0      1.0\n",
       "50%      4.594709    4.223440    3.737946    4.332033   50.0      1.0\n",
       "75%      5.267174    4.802620    4.372440    5.057766   50.0      1.0\n",
       "max      8.389931    7.012691    6.540796    8.843477   50.0      1.0"
      ]
     },
     "execution_count": 4,
     "metadata": {},
     "output_type": "execute_result"
    }
   ],
   "source": [
    "# Broken gearbox\n",
    "# --------------\n",
    "#  STDEV version (computed every 100 points)\n",
    "broken_dataset = pd.read_csv(\"./input/gearbox-fault-diagnosis-stdev/broken30hz50.csv\")\n",
    "#  RAW version\n",
    "#broken_dataset = pd.read_csv(\"./input/gearbox-fault-diagnosis/BrokenTooth/b30hz50.csv\")\n",
    "#broken_dataset['failure'] = 1\n",
    "broken_dataset.describe()"
   ]
  },
  {
   "cell_type": "code",
   "execution_count": 5,
   "metadata": {},
   "outputs": [
    {
     "name": "stdout",
     "output_type": "stream",
     "text": [
      "There're 94 points in the BROKEN dataset, vs. 1108 points in the HEALHTY dataset\n"
     ]
    }
   ],
   "source": [
    "# Generate a combined dataset\n",
    "healthy_subset = healthy_dataset.sample(frac =1)\n",
    "broken_subset  = broken_dataset.sample(frac =0.1)\n",
    "print(\"There're\", broken_subset.shape[0], \"points in the BROKEN dataset, vs.\", healthy_subset.shape[0], \"points in the HEALHTY dataset\")"
   ]
  },
  {
   "cell_type": "code",
   "execution_count": 6,
   "metadata": {},
   "outputs": [
    {
     "data": {
      "text/html": [
       "<div>\n",
       "<style scoped>\n",
       "    .dataframe tbody tr th:only-of-type {\n",
       "        vertical-align: middle;\n",
       "    }\n",
       "\n",
       "    .dataframe tbody tr th {\n",
       "        vertical-align: top;\n",
       "    }\n",
       "\n",
       "    .dataframe thead th {\n",
       "        text-align: right;\n",
       "    }\n",
       "</style>\n",
       "<table border=\"1\" class=\"dataframe\">\n",
       "  <thead>\n",
       "    <tr style=\"text-align: right;\">\n",
       "      <th></th>\n",
       "      <th>a1</th>\n",
       "      <th>a2</th>\n",
       "      <th>a3</th>\n",
       "      <th>a4</th>\n",
       "      <th>load</th>\n",
       "      <th>failure</th>\n",
       "    </tr>\n",
       "  </thead>\n",
       "  <tbody>\n",
       "    <tr>\n",
       "      <th>count</th>\n",
       "      <td>1202.000000</td>\n",
       "      <td>1202.000000</td>\n",
       "      <td>1202.000000</td>\n",
       "      <td>1202.000000</td>\n",
       "      <td>1202.0</td>\n",
       "      <td>1202.000000</td>\n",
       "    </tr>\n",
       "    <tr>\n",
       "      <th>mean</th>\n",
       "      <td>7.060373</td>\n",
       "      <td>4.289838</td>\n",
       "      <td>4.133118</td>\n",
       "      <td>4.584953</td>\n",
       "      <td>50.0</td>\n",
       "      <td>0.078203</td>\n",
       "    </tr>\n",
       "    <tr>\n",
       "      <th>std</th>\n",
       "      <td>2.057490</td>\n",
       "      <td>1.200665</td>\n",
       "      <td>0.920563</td>\n",
       "      <td>1.076321</td>\n",
       "      <td>0.0</td>\n",
       "      <td>0.268603</td>\n",
       "    </tr>\n",
       "    <tr>\n",
       "      <th>min</th>\n",
       "      <td>2.439092</td>\n",
       "      <td>2.144350</td>\n",
       "      <td>1.988760</td>\n",
       "      <td>2.149742</td>\n",
       "      <td>50.0</td>\n",
       "      <td>0.000000</td>\n",
       "    </tr>\n",
       "    <tr>\n",
       "      <th>25%</th>\n",
       "      <td>5.599585</td>\n",
       "      <td>3.471495</td>\n",
       "      <td>3.467317</td>\n",
       "      <td>3.818547</td>\n",
       "      <td>50.0</td>\n",
       "      <td>0.000000</td>\n",
       "    </tr>\n",
       "    <tr>\n",
       "      <th>50%</th>\n",
       "      <td>6.683093</td>\n",
       "      <td>4.025313</td>\n",
       "      <td>3.999335</td>\n",
       "      <td>4.484245</td>\n",
       "      <td>50.0</td>\n",
       "      <td>0.000000</td>\n",
       "    </tr>\n",
       "    <tr>\n",
       "      <th>75%</th>\n",
       "      <td>8.224060</td>\n",
       "      <td>4.804713</td>\n",
       "      <td>4.675725</td>\n",
       "      <td>5.215637</td>\n",
       "      <td>50.0</td>\n",
       "      <td>0.000000</td>\n",
       "    </tr>\n",
       "    <tr>\n",
       "      <th>max</th>\n",
       "      <td>17.739845</td>\n",
       "      <td>9.528165</td>\n",
       "      <td>7.647036</td>\n",
       "      <td>9.902024</td>\n",
       "      <td>50.0</td>\n",
       "      <td>1.000000</td>\n",
       "    </tr>\n",
       "  </tbody>\n",
       "</table>\n",
       "</div>"
      ],
      "text/plain": [
       "                a1           a2           a3           a4    load      failure\n",
       "count  1202.000000  1202.000000  1202.000000  1202.000000  1202.0  1202.000000\n",
       "mean      7.060373     4.289838     4.133118     4.584953    50.0     0.078203\n",
       "std       2.057490     1.200665     0.920563     1.076321     0.0     0.268603\n",
       "min       2.439092     2.144350     1.988760     2.149742    50.0     0.000000\n",
       "25%       5.599585     3.471495     3.467317     3.818547    50.0     0.000000\n",
       "50%       6.683093     4.025313     3.999335     4.484245    50.0     0.000000\n",
       "75%       8.224060     4.804713     4.675725     5.215637    50.0     0.000000\n",
       "max      17.739845     9.528165     7.647036     9.902024    50.0     1.000000"
      ]
     },
     "execution_count": 6,
     "metadata": {},
     "output_type": "execute_result"
    }
   ],
   "source": [
    "dataset = pd.concat([healthy_subset, broken_subset], axis=0)\n",
    "dataset.describe()"
   ]
  },
  {
   "cell_type": "code",
   "execution_count": 7,
   "metadata": {},
   "outputs": [
    {
     "data": {
      "text/plain": [
       "<matplotlib.collections.PathCollection at 0x7f7ce9085850>"
      ]
     },
     "execution_count": 7,
     "metadata": {},
     "output_type": "execute_result"
    },
    {
     "data": {
      "image/png": "[encoded data removed]",
      "text/plain": [
       "<Figure size 432x288 with 1 Axes>"
      ]
     },
     "metadata": {
      "needs_background": "light"
     },
     "output_type": "display_data"
    }
   ],
   "source": [
    "plt.scatter(dataset['a1'],dataset['a2'])"
   ]
  },
  {
   "cell_type": "markdown",
   "metadata": {},
   "source": [
    "# Run an anomaly detection analysis using KNN algorithm (2 features)\n",
    "**WARNING:** The decision boundary below is for two features a1, a2\n",
    "https://www.geeksforgeeks.org/machine-learning-for-anomaly-detection/"
   ]
  },
  {
   "cell_type": "code",
   "execution_count": 8,
   "metadata": {},
   "outputs": [],
   "source": [
    "import matplotlib.font_manager\n",
    "from pyod.models.knn import KNN \n",
    "from pyod.utils.data import generate_data, get_outliers_inliers"
   ]
  },
  {
   "cell_type": "code",
   "execution_count": 9,
   "metadata": {},
   "outputs": [],
   "source": [
    "# [1] BUILD THE TRAINING DATA\n",
    "features = dataset[['a1','a2']] #If selecting only the features in the scatter plot above\n",
    "X_train = features.values\n",
    "outcome = dataset[['failure']]\n",
    "y_train = outcome.values[:,0]"
   ]
  },
  {
   "cell_type": "code",
   "execution_count": 10,
   "metadata": {},
   "outputs": [
    {
     "name": "stdout",
     "output_type": "stream",
     "text": [
      "There are 1108 inliers and 94 outliers\n"
     ]
    }
   ],
   "source": [
    "# Storing the outliers and inliners in different numpy arrays\n",
    "X_outliers, X_inliers = get_outliers_inliers(features.values, outcome)\n",
    "n_inliers = len(X_inliers)\n",
    "n_outliers = len(X_outliers)\n",
    "print(\"There are\", n_inliers, \"inliers and\", n_outliers, \"outliers\")"
   ]
  },
  {
   "cell_type": "code",
   "execution_count": 11,
   "metadata": {},
   "outputs": [],
   "source": [
    "# Separating the two features\n",
    "#f1 = X_train[:, [0]] # .reshape(-1, 1) # This destructures the array f1[:,0]\n",
    "f1 = features.loc[:,['a1']].values \n",
    "f2 = features.loc[:,['a2']].values"
   ]
  },
  {
   "cell_type": "code",
   "execution_count": 12,
   "metadata": {
    "scrolled": true
   },
   "outputs": [
    {
     "data": {
      "text/plain": [
       "Text(0, 0.5, 'Feature 2')"
      ]
     },
     "execution_count": 12,
     "metadata": {},
     "output_type": "execute_result"
    },
    {
     "data": {
      "image/png": "[encoded data removed]",
      "text/plain": [
       "<Figure size 432x288 with 1 Axes>"
      ]
     },
     "metadata": {
      "needs_background": "light"
     },
     "output_type": "display_data"
    }
   ],
   "source": [
    "# [2] VISUALIZE THE DATA\n",
    "# Visualising the dataset\n",
    "# create a meshgrid\n",
    "xx, yy = np.meshgrid(np.linspace(0, 20, 200), np.linspace(0, 20, 200)) # Set the limits to your case: 0 to 20\n",
    "# If extending to 3D\n",
    "#xx, yy, zz = np.meshgrid(np.linspace(-10, 10, 200), np.linspace(-10, 10, 200), np.linspace(-10, 10, 200))\n",
    "\n",
    "# scatter plot\n",
    "plt.scatter(f1, f2) # ,f3) if extending to 3D\n",
    "plt.xlabel('Feature 1')\n",
    "plt.ylabel('Feature 2')"
   ]
  },
  {
   "cell_type": "code",
   "execution_count": 13,
   "metadata": {},
   "outputs": [
    {
     "name": "stderr",
     "output_type": "stream",
     "text": [
      "/opt/conda/lib/python3.7/site-packages/pyod/models/base.py:349: UserWarning: y should not be presented in unsupervised learning.\n",
      "  \"y should not be presented in unsupervised learning.\")\n"
     ]
    }
   ],
   "source": [
    "# [3] TRAIN THE MODEL for only 2 features AND EVALUATE\n",
    "\n",
    "# Training the classifier. It requires outlier_fraction to be defined above\n",
    "clf = KNN(contamination = outlier_fraction)\n",
    "clf.fit(X_train, y_train)\n",
    "  \n",
    "# You can print this to see all the prediciton scores\n",
    "scores_pred = clf.decision_function(X_train)*-1\n",
    "  \n",
    "y_pred = clf.predict(X_train)\n",
    "n_errors = (y_pred != y_train).sum()"
   ]
  },
  {
   "cell_type": "code",
   "execution_count": 14,
   "metadata": {},
   "outputs": [
    {
     "name": "stdout",
     "output_type": "stream",
     "text": [
      "The number of prediction errors are 183 , equal to  15.22 % out of 1202 data points\n"
     ]
    }
   ],
   "source": [
    "# Counting the number of errors  \n",
    "print('The number of prediction errors are', n_errors, ', equal to ', \"{:.2f}\".format(n_errors/y_train.shape[0]*100), '% out of', y_train.shape[0], 'data points')"
   ]
  },
  {
   "cell_type": "code",
   "execution_count": 15,
   "metadata": {},
   "outputs": [
    {
     "data": {
      "text/plain": [
       "-0.3551806684947234"
      ]
     },
     "execution_count": 15,
     "metadata": {},
     "output_type": "execute_result"
    }
   ],
   "source": [
    "# [4] VISUALIZING THE PREDICTIONS\n",
    "\n",
    "# threshold value to consider a\n",
    "# datapoint inlier or outlier\n",
    "threshold = stats.scoreatpercentile(scores_pred, 100 * outlier_fraction)\n",
    "threshold"
   ]
  },
  {
   "cell_type": "code",
   "execution_count": 16,
   "metadata": {},
   "outputs": [],
   "source": [
    "# decision function calculates the raw \n",
    "# anomaly score for every point\n",
    "Z = clf.decision_function(np.c_[xx.ravel(), yy.ravel()]) * -1\n",
    "# Z = clf.decision_function(np.c_[xx.ravel(), yy.ravel() , zz.ravel()]) * -1 # If extending to 3D\n",
    "Z = Z.reshape(xx.shape)"
   ]
  },
  {
   "cell_type": "code",
   "execution_count": 17,
   "metadata": {},
   "outputs": [
    {
     "data": {
      "image/png": "[encoded data removed]",
      "text/plain": [
       "<Figure size 432x288 with 1 Axes>"
      ]
     },
     "metadata": {
      "needs_background": "light"
     },
     "output_type": "display_data"
    }
   ],
   "source": [
    "# fill blue colormap from minimum anomaly\n",
    "# score to threshold value\n",
    "subplot = plt.subplot(1, 1, 1)\n",
    "subplot.contourf(xx, yy, Z, levels = np.linspace(Z.min(), \n",
    "                  threshold, 10), cmap = plt.cm.Blues_r)\n",
    "\n",
    "# draw red contour line where anomaly \n",
    "# score is equal to threshold\n",
    "a = subplot.contour(xx, yy, Z, levels =[threshold],\n",
    "                     linewidths = 2, colors ='red')\n",
    "\n",
    "# fill orange contour lines where range of anomaly\n",
    "# score is from threshold to maximum anomaly score\n",
    "subplot.contourf(xx, yy, Z, levels =[threshold, Z.max()], colors ='orange')\n",
    "  \n",
    "# scatter plot of inliers with white dots\n",
    "b = subplot.scatter(X_train[:-n_outliers, 0], X_train[:-n_outliers, 1],\n",
    "                                    c ='white', s = 20, edgecolor ='k') \n",
    "  \n",
    "# scatter plot of outliers with black dots\n",
    "c = subplot.scatter(X_train[-n_outliers:, 0], X_train[-n_outliers:, 1], \n",
    "                                    c ='black', s = 20, edgecolor ='k')\n",
    "subplot.axis('tight')\n",
    "\n",
    "subplot.legend(\n",
    "    [a.collections[0], b, c],\n",
    "    ['learned decision function', 'true inliers', 'true outliers'],\n",
    "    prop = matplotlib.font_manager.FontProperties(size = 10),\n",
    "    loc ='lower right')\n",
    "  \n",
    "subplot.set_title('K-Nearest Neighbours')\n",
    "subplot.set_xlim((0, 20))\n",
    "subplot.set_ylim((0, 20))\n",
    "plt.show() "
   ]
  },
  {
   "cell_type": "markdown",
   "metadata": {},
   "source": [
    "# Run the KNN anomaly detection analysis including all features\n",
    "## 50% load case\n",
    "**WARNING:** The decision boundary above is just for the two features a1, a2. Not plotted now"
   ]
  },
  {
   "cell_type": "code",
   "execution_count": 18,
   "metadata": {},
   "outputs": [],
   "source": [
    "filename = \"healthy30hz50.csv\"\n",
    "healthy_dataset = pd.read_csv(\"./input/gearbox-fault-diagnosis-stdev/\" + filename)\n",
    "filename = \"broken30hz50.csv\"\n",
    "broken_dataset = pd.read_csv(\"./input/gearbox-fault-diagnosis-stdev/\" + filename)"
   ]
  },
  {
   "cell_type": "code",
   "execution_count": 19,
   "metadata": {},
   "outputs": [
    {
     "name": "stdout",
     "output_type": "stream",
     "text": [
      "There're 94 points in the BROKEN dataset, vs. 1108 points in the HEALHTY dataset\n"
     ]
    },
    {
     "data": {
      "text/html": [
       "<div>\n",
       "<style scoped>\n",
       "    .dataframe tbody tr th:only-of-type {\n",
       "        vertical-align: middle;\n",
       "    }\n",
       "\n",
       "    .dataframe tbody tr th {\n",
       "        vertical-align: top;\n",
       "    }\n",
       "\n",
       "    .dataframe thead th {\n",
       "        text-align: right;\n",
       "    }\n",
       "</style>\n",
       "<table border=\"1\" class=\"dataframe\">\n",
       "  <thead>\n",
       "    <tr style=\"text-align: right;\">\n",
       "      <th></th>\n",
       "      <th>a1</th>\n",
       "      <th>a2</th>\n",
       "      <th>a3</th>\n",
       "      <th>a4</th>\n",
       "      <th>load</th>\n",
       "      <th>failure</th>\n",
       "    </tr>\n",
       "  </thead>\n",
       "  <tbody>\n",
       "    <tr>\n",
       "      <th>count</th>\n",
       "      <td>1202.000000</td>\n",
       "      <td>1202.000000</td>\n",
       "      <td>1202.000000</td>\n",
       "      <td>1202.000000</td>\n",
       "      <td>1202.0</td>\n",
       "      <td>1202.000000</td>\n",
       "    </tr>\n",
       "    <tr>\n",
       "      <th>mean</th>\n",
       "      <td>7.061697</td>\n",
       "      <td>4.287780</td>\n",
       "      <td>4.143856</td>\n",
       "      <td>4.592672</td>\n",
       "      <td>50.0</td>\n",
       "      <td>0.078203</td>\n",
       "    </tr>\n",
       "    <tr>\n",
       "      <th>std</th>\n",
       "      <td>2.055253</td>\n",
       "      <td>1.201227</td>\n",
       "      <td>0.922746</td>\n",
       "      <td>1.079584</td>\n",
       "      <td>0.0</td>\n",
       "      <td>0.268603</td>\n",
       "    </tr>\n",
       "    <tr>\n",
       "      <th>min</th>\n",
       "      <td>2.439092</td>\n",
       "      <td>2.144350</td>\n",
       "      <td>1.988760</td>\n",
       "      <td>2.149742</td>\n",
       "      <td>50.0</td>\n",
       "      <td>0.000000</td>\n",
       "    </tr>\n",
       "    <tr>\n",
       "      <th>25%</th>\n",
       "      <td>5.602577</td>\n",
       "      <td>3.473115</td>\n",
       "      <td>3.473765</td>\n",
       "      <td>3.837269</td>\n",
       "      <td>50.0</td>\n",
       "      <td>0.000000</td>\n",
       "    </tr>\n",
       "    <tr>\n",
       "      <th>50%</th>\n",
       "      <td>6.680990</td>\n",
       "      <td>4.025467</td>\n",
       "      <td>4.024706</td>\n",
       "      <td>4.498348</td>\n",
       "      <td>50.0</td>\n",
       "      <td>0.000000</td>\n",
       "    </tr>\n",
       "    <tr>\n",
       "      <th>75%</th>\n",
       "      <td>8.224060</td>\n",
       "      <td>4.804087</td>\n",
       "      <td>4.687986</td>\n",
       "      <td>5.222986</td>\n",
       "      <td>50.0</td>\n",
       "      <td>0.000000</td>\n",
       "    </tr>\n",
       "    <tr>\n",
       "      <th>max</th>\n",
       "      <td>17.739845</td>\n",
       "      <td>9.528165</td>\n",
       "      <td>7.647036</td>\n",
       "      <td>9.902024</td>\n",
       "      <td>50.0</td>\n",
       "      <td>1.000000</td>\n",
       "    </tr>\n",
       "  </tbody>\n",
       "</table>\n",
       "</div>"
      ],
      "text/plain": [
       "                a1           a2           a3           a4    load      failure\n",
       "count  1202.000000  1202.000000  1202.000000  1202.000000  1202.0  1202.000000\n",
       "mean      7.061697     4.287780     4.143856     4.592672    50.0     0.078203\n",
       "std       2.055253     1.201227     0.922746     1.079584     0.0     0.268603\n",
       "min       2.439092     2.144350     1.988760     2.149742    50.0     0.000000\n",
       "25%       5.602577     3.473115     3.473765     3.837269    50.0     0.000000\n",
       "50%       6.680990     4.025467     4.024706     4.498348    50.0     0.000000\n",
       "75%       8.224060     4.804087     4.687986     5.222986    50.0     0.000000\n",
       "max      17.739845     9.528165     7.647036     9.902024    50.0     1.000000"
      ]
     },
     "execution_count": 19,
     "metadata": {},
     "output_type": "execute_result"
    }
   ],
   "source": [
    "# Generate a combined dataset\n",
    "healthy_subset = healthy_dataset.sample(frac =1)\n",
    "broken_subset  = broken_dataset.sample(frac =0.1)\n",
    "print(\"There're\", broken_subset.shape[0], \"points in the BROKEN dataset, vs.\", healthy_subset.shape[0], \"points in the HEALHTY dataset\")\n",
    "\n",
    "dataset = pd.concat([healthy_subset, broken_subset], axis=0)\n",
    "dataset.describe()"
   ]
  },
  {
   "cell_type": "code",
   "execution_count": 20,
   "metadata": {},
   "outputs": [],
   "source": [
    "# [1] BUILD THE TRAINING DATA\n",
    "features = dataset[['a1','a2','a3','a4']] #If selecting only the features in the scatter plot above\n",
    "X_train = features.values\n",
    "outcome = dataset[['failure']]\n",
    "y_train = outcome.values[:,0]"
   ]
  },
  {
   "cell_type": "code",
   "execution_count": 21,
   "metadata": {},
   "outputs": [
    {
     "name": "stdout",
     "output_type": "stream",
     "text": [
      "There are 1108 inliers and 94 outliers\n"
     ]
    }
   ],
   "source": [
    "# [2] COMPUTINHG OUTLIERS\n",
    "# Storing the outliers and inliners in different numpy arrays\n",
    "X_outliers, X_inliers = get_outliers_inliers(features.values, outcome)\n",
    "n_inliers = len(X_inliers)\n",
    "n_outliers = len(X_outliers)\n",
    "print(\"There are\", n_inliers, \"inliers and\", n_outliers, \"outliers\")"
   ]
  },
  {
   "cell_type": "code",
   "execution_count": 22,
   "metadata": {},
   "outputs": [
    {
     "name": "stderr",
     "output_type": "stream",
     "text": [
      "/opt/conda/lib/python3.7/site-packages/pyod/models/base.py:349: UserWarning: y should not be presented in unsupervised learning.\n",
      "  \"y should not be presented in unsupervised learning.\")\n"
     ]
    }
   ],
   "source": [
    "# [3] TRAIN THE MODEL AND EVALUATE\n",
    "\n",
    "# Training the classifier\n",
    "clf = KNN(contamination = outlier_fraction)\n",
    "clf.fit(X_train, y_train)\n",
    "  \n",
    "# You can print this to see all the prediciton scores\n",
    "scores_pred = clf.decision_function(X_train)*-1\n",
    "  \n",
    "y_pred = clf.predict(X_train)\n",
    "n_errors = (y_pred != y_train).sum()"
   ]
  },
  {
   "cell_type": "code",
   "execution_count": 23,
   "metadata": {},
   "outputs": [
    {
     "name": "stdout",
     "output_type": "stream",
     "text": [
      "The number of prediction errors are 142 , equal to  11.81 % out of 1202 data points\n"
     ]
    }
   ],
   "source": [
    "# Counting the number of errors  \n",
    "print('The number of prediction errors are', n_errors, ', equal to ', \"{:.2f}\".format(n_errors/y_train.shape[0]*100), '% out of', y_train.shape[0], 'data points')"
   ]
  },
  {
   "cell_type": "markdown",
   "metadata": {},
   "source": [
    "## 90% load case"
   ]
  },
  {
   "cell_type": "code",
   "execution_count": 24,
   "metadata": {},
   "outputs": [],
   "source": [
    "filename = \"healthy30hz90.csv\"\n",
    "healthy_dataset = pd.read_csv(\"./input/gearbox-fault-diagnosis-stdev/\" + filename)\n",
    "filename = \"broken30hz90.csv\"\n",
    "broken_dataset = pd.read_csv(\"./input/gearbox-fault-diagnosis-stdev/\" + filename)"
   ]
  },
  {
   "cell_type": "code",
   "execution_count": 25,
   "metadata": {},
   "outputs": [
    {
     "name": "stdout",
     "output_type": "stream",
     "text": [
      "There're 106 points in the BROKEN dataset, vs. 1067 points in the HEALHTY dataset\n"
     ]
    },
    {
     "data": {
      "text/html": [
       "<div>\n",
       "<style scoped>\n",
       "    .dataframe tbody tr th:only-of-type {\n",
       "        vertical-align: middle;\n",
       "    }\n",
       "\n",
       "    .dataframe tbody tr th {\n",
       "        vertical-align: top;\n",
       "    }\n",
       "\n",
       "    .dataframe thead th {\n",
       "        text-align: right;\n",
       "    }\n",
       "</style>\n",
       "<table border=\"1\" class=\"dataframe\">\n",
       "  <thead>\n",
       "    <tr style=\"text-align: right;\">\n",
       "      <th></th>\n",
       "      <th>a1</th>\n",
       "      <th>a2</th>\n",
       "      <th>a3</th>\n",
       "      <th>a4</th>\n",
       "      <th>load</th>\n",
       "      <th>failure</th>\n",
       "    </tr>\n",
       "  </thead>\n",
       "  <tbody>\n",
       "    <tr>\n",
       "      <th>count</th>\n",
       "      <td>1173.000000</td>\n",
       "      <td>1173.000000</td>\n",
       "      <td>1173.000000</td>\n",
       "      <td>1173.000000</td>\n",
       "      <td>1173.0</td>\n",
       "      <td>1173.000000</td>\n",
       "    </tr>\n",
       "    <tr>\n",
       "      <th>mean</th>\n",
       "      <td>7.788423</td>\n",
       "      <td>4.473333</td>\n",
       "      <td>4.541580</td>\n",
       "      <td>5.142172</td>\n",
       "      <td>90.0</td>\n",
       "      <td>0.090367</td>\n",
       "    </tr>\n",
       "    <tr>\n",
       "      <th>std</th>\n",
       "      <td>2.019626</td>\n",
       "      <td>1.008445</td>\n",
       "      <td>0.882936</td>\n",
       "      <td>1.030136</td>\n",
       "      <td>0.0</td>\n",
       "      <td>0.286829</td>\n",
       "    </tr>\n",
       "    <tr>\n",
       "      <th>min</th>\n",
       "      <td>3.264460</td>\n",
       "      <td>2.094819</td>\n",
       "      <td>2.175081</td>\n",
       "      <td>2.463140</td>\n",
       "      <td>90.0</td>\n",
       "      <td>0.000000</td>\n",
       "    </tr>\n",
       "    <tr>\n",
       "      <th>25%</th>\n",
       "      <td>6.362011</td>\n",
       "      <td>3.733984</td>\n",
       "      <td>3.882552</td>\n",
       "      <td>4.456178</td>\n",
       "      <td>90.0</td>\n",
       "      <td>0.000000</td>\n",
       "    </tr>\n",
       "    <tr>\n",
       "      <th>50%</th>\n",
       "      <td>7.612713</td>\n",
       "      <td>4.343043</td>\n",
       "      <td>4.493203</td>\n",
       "      <td>5.111780</td>\n",
       "      <td>90.0</td>\n",
       "      <td>0.000000</td>\n",
       "    </tr>\n",
       "    <tr>\n",
       "      <th>75%</th>\n",
       "      <td>9.070146</td>\n",
       "      <td>5.076617</td>\n",
       "      <td>5.140482</td>\n",
       "      <td>5.781280</td>\n",
       "      <td>90.0</td>\n",
       "      <td>0.000000</td>\n",
       "    </tr>\n",
       "    <tr>\n",
       "      <th>max</th>\n",
       "      <td>23.909199</td>\n",
       "      <td>8.432767</td>\n",
       "      <td>8.273939</td>\n",
       "      <td>9.674538</td>\n",
       "      <td>90.0</td>\n",
       "      <td>1.000000</td>\n",
       "    </tr>\n",
       "  </tbody>\n",
       "</table>\n",
       "</div>"
      ],
      "text/plain": [
       "                a1           a2           a3           a4    load      failure\n",
       "count  1173.000000  1173.000000  1173.000000  1173.000000  1173.0  1173.000000\n",
       "mean      7.788423     4.473333     4.541580     5.142172    90.0     0.090367\n",
       "std       2.019626     1.008445     0.882936     1.030136     0.0     0.286829\n",
       "min       3.264460     2.094819     2.175081     2.463140    90.0     0.000000\n",
       "25%       6.362011     3.733984     3.882552     4.456178    90.0     0.000000\n",
       "50%       7.612713     4.343043     4.493203     5.111780    90.0     0.000000\n",
       "75%       9.070146     5.076617     5.140482     5.781280    90.0     0.000000\n",
       "max      23.909199     8.432767     8.273939     9.674538    90.0     1.000000"
      ]
     },
     "execution_count": 25,
     "metadata": {},
     "output_type": "execute_result"
    }
   ],
   "source": [
    "# Generate a combined dataset\n",
    "healthy_subset = healthy_dataset.sample(frac =1)\n",
    "broken_subset  = broken_dataset.sample(frac =0.1)\n",
    "print(\"There're\", broken_subset.shape[0], \"points in the BROKEN dataset, vs.\", healthy_subset.shape[0], \"points in the HEALHTY dataset\")\n",
    "\n",
    "dataset = pd.concat([healthy_subset, broken_subset], axis=0)\n",
    "dataset.describe()"
   ]
  },
  {
   "cell_type": "code",
   "execution_count": 26,
   "metadata": {},
   "outputs": [
    {
     "name": "stdout",
     "output_type": "stream",
     "text": [
      "There are 1067 inliers and 106 outliers\n"
     ]
    },
    {
     "name": "stderr",
     "output_type": "stream",
     "text": [
      "/opt/conda/lib/python3.7/site-packages/pyod/models/base.py:349: UserWarning: y should not be presented in unsupervised learning.\n",
      "  \"y should not be presented in unsupervised learning.\")\n"
     ]
    },
    {
     "name": "stdout",
     "output_type": "stream",
     "text": [
      "The number of prediction errors are 138 , equal to  11.76 % out of 1173 data points\n"
     ]
    }
   ],
   "source": [
    "# [1] BUILD THE TRAINING DATA\n",
    "features = dataset[['a1','a2','a3','a4']] #If selecting only the features in the scatter plot above\n",
    "X_train = features.values\n",
    "outcome = dataset[['failure']]\n",
    "y_train = outcome.values[:,0]\n",
    "\n",
    "# [2] COMPUTING OUTLIERS\n",
    "# Storing the outliers and inliners in different numpy arrays\n",
    "X_outliers, X_inliers = get_outliers_inliers(features.values, outcome)\n",
    "n_inliers = len(X_inliers)\n",
    "n_outliers = len(X_outliers)\n",
    "print(\"There are\", n_inliers, \"inliers and\", n_outliers, \"outliers\")\n",
    "\n",
    "# [3] TRAIN THE MODEL AND EVALUATE\n",
    "# Training the classifier\n",
    "clf = KNN(contamination = outlier_fraction)\n",
    "clf.fit(X_train, y_train)\n",
    "scores_pred = clf.decision_function(X_train)*-1\n",
    "y_pred = clf.predict(X_train)\n",
    "n_errors = (y_pred != y_train).sum()\n",
    "print('The number of prediction errors are', n_errors, ', equal to ', \"{:.2f}\".format(n_errors/y_train.shape[0]*100), '% out of', y_train.shape[0], 'data points')"
   ]
  },
  {
   "cell_type": "markdown",
   "metadata": {},
   "source": [
    "# 0% load case"
   ]
  },
  {
   "cell_type": "code",
   "execution_count": 27,
   "metadata": {},
   "outputs": [],
   "source": [
    "filename = \"healthy30hz0.csv\"\n",
    "healthy_dataset = pd.read_csv(\"./input/gearbox-fault-diagnosis-stdev/\" + filename)\n",
    "filename = \"broken30hz0.csv\"\n",
    "broken_dataset = pd.read_csv(\"./input/gearbox-fault-diagnosis-stdev/\" + filename)"
   ]
  },
  {
   "cell_type": "code",
   "execution_count": 28,
   "metadata": {},
   "outputs": [
    {
     "name": "stdout",
     "output_type": "stream",
     "text": [
      "There're 88 points in the BROKEN dataset, vs. 888 points in the HEALHTY dataset\n"
     ]
    },
    {
     "data": {
      "text/html": [
       "<div>\n",
       "<style scoped>\n",
       "    .dataframe tbody tr th:only-of-type {\n",
       "        vertical-align: middle;\n",
       "    }\n",
       "\n",
       "    .dataframe tbody tr th {\n",
       "        vertical-align: top;\n",
       "    }\n",
       "\n",
       "    .dataframe thead th {\n",
       "        text-align: right;\n",
       "    }\n",
       "</style>\n",
       "<table border=\"1\" class=\"dataframe\">\n",
       "  <thead>\n",
       "    <tr style=\"text-align: right;\">\n",
       "      <th></th>\n",
       "      <th>a1</th>\n",
       "      <th>a2</th>\n",
       "      <th>a3</th>\n",
       "      <th>a4</th>\n",
       "      <th>load</th>\n",
       "      <th>failure</th>\n",
       "    </tr>\n",
       "  </thead>\n",
       "  <tbody>\n",
       "    <tr>\n",
       "      <th>count</th>\n",
       "      <td>976.000000</td>\n",
       "      <td>976.000000</td>\n",
       "      <td>976.000000</td>\n",
       "      <td>976.000000</td>\n",
       "      <td>976.0</td>\n",
       "      <td>976.000000</td>\n",
       "    </tr>\n",
       "    <tr>\n",
       "      <th>mean</th>\n",
       "      <td>5.431955</td>\n",
       "      <td>3.835522</td>\n",
       "      <td>3.130363</td>\n",
       "      <td>3.216102</td>\n",
       "      <td>0.0</td>\n",
       "      <td>0.090164</td>\n",
       "    </tr>\n",
       "    <tr>\n",
       "      <th>std</th>\n",
       "      <td>1.998376</td>\n",
       "      <td>1.533105</td>\n",
       "      <td>0.854955</td>\n",
       "      <td>0.891624</td>\n",
       "      <td>0.0</td>\n",
       "      <td>0.286563</td>\n",
       "    </tr>\n",
       "    <tr>\n",
       "      <th>min</th>\n",
       "      <td>1.541800</td>\n",
       "      <td>1.272738</td>\n",
       "      <td>1.071922</td>\n",
       "      <td>1.252334</td>\n",
       "      <td>0.0</td>\n",
       "      <td>0.000000</td>\n",
       "    </tr>\n",
       "    <tr>\n",
       "      <th>25%</th>\n",
       "      <td>3.956986</td>\n",
       "      <td>2.804647</td>\n",
       "      <td>2.510536</td>\n",
       "      <td>2.544066</td>\n",
       "      <td>0.0</td>\n",
       "      <td>0.000000</td>\n",
       "    </tr>\n",
       "    <tr>\n",
       "      <th>50%</th>\n",
       "      <td>5.120015</td>\n",
       "      <td>3.477152</td>\n",
       "      <td>3.027364</td>\n",
       "      <td>3.193430</td>\n",
       "      <td>0.0</td>\n",
       "      <td>0.000000</td>\n",
       "    </tr>\n",
       "    <tr>\n",
       "      <th>75%</th>\n",
       "      <td>6.693841</td>\n",
       "      <td>4.384641</td>\n",
       "      <td>3.687992</td>\n",
       "      <td>3.801548</td>\n",
       "      <td>0.0</td>\n",
       "      <td>0.000000</td>\n",
       "    </tr>\n",
       "    <tr>\n",
       "      <th>max</th>\n",
       "      <td>14.025923</td>\n",
       "      <td>10.374287</td>\n",
       "      <td>6.067145</td>\n",
       "      <td>6.395715</td>\n",
       "      <td>0.0</td>\n",
       "      <td>1.000000</td>\n",
       "    </tr>\n",
       "  </tbody>\n",
       "</table>\n",
       "</div>"
      ],
      "text/plain": [
       "               a1          a2          a3          a4   load     failure\n",
       "count  976.000000  976.000000  976.000000  976.000000  976.0  976.000000\n",
       "mean     5.431955    3.835522    3.130363    3.216102    0.0    0.090164\n",
       "std      1.998376    1.533105    0.854955    0.891624    0.0    0.286563\n",
       "min      1.541800    1.272738    1.071922    1.252334    0.0    0.000000\n",
       "25%      3.956986    2.804647    2.510536    2.544066    0.0    0.000000\n",
       "50%      5.120015    3.477152    3.027364    3.193430    0.0    0.000000\n",
       "75%      6.693841    4.384641    3.687992    3.801548    0.0    0.000000\n",
       "max     14.025923   10.374287    6.067145    6.395715    0.0    1.000000"
      ]
     },
     "execution_count": 28,
     "metadata": {},
     "output_type": "execute_result"
    }
   ],
   "source": [
    "# Generate a combined dataset\n",
    "healthy_subset = healthy_dataset.sample(frac =1)\n",
    "broken_subset  = broken_dataset.sample(frac =0.1)\n",
    "print(\"There're\", broken_subset.shape[0], \"points in the BROKEN dataset, vs.\", healthy_subset.shape[0], \"points in the HEALHTY dataset\")\n",
    "\n",
    "dataset = pd.concat([healthy_subset, broken_subset], axis=0)\n",
    "dataset.describe()"
   ]
  },
  {
   "cell_type": "code",
   "execution_count": 29,
   "metadata": {},
   "outputs": [
    {
     "name": "stdout",
     "output_type": "stream",
     "text": [
      "There are 888 inliers and 88 outliers\n"
     ]
    },
    {
     "name": "stderr",
     "output_type": "stream",
     "text": [
      "/opt/conda/lib/python3.7/site-packages/pyod/models/base.py:349: UserWarning: y should not be presented in unsupervised learning.\n",
      "  \"y should not be presented in unsupervised learning.\")\n"
     ]
    },
    {
     "name": "stdout",
     "output_type": "stream",
     "text": [
      "The number of prediction errors are 126 , equal to  12.91 % out of 976 data points\n"
     ]
    }
   ],
   "source": [
    "# [1] BUILD THE TRAINING DATA\n",
    "features = dataset[['a1','a2','a3','a4']] #If selecting only the features in the scatter plot above\n",
    "X_train = features.values\n",
    "outcome = dataset[['failure']]\n",
    "y_train = outcome.values[:,0]\n",
    "\n",
    "# [2] COMPUTINHG OUTLIERS\n",
    "# Storing the outliers and inliners in different numpy arrays\n",
    "X_outliers, X_inliers = get_outliers_inliers(features.values, outcome)\n",
    "n_inliers = len(X_inliers)\n",
    "n_outliers = len(X_outliers)\n",
    "print(\"There are\", n_inliers, \"inliers and\", n_outliers, \"outliers\")\n",
    "\n",
    "# [3] TRAIN THE MODEL AND EVALUATE\n",
    "# Training the classifier\n",
    "clf = KNN(contamination = outlier_fraction)\n",
    "clf.fit(X_train, y_train)\n",
    "scores_pred = clf.decision_function(X_train)*-1\n",
    "y_pred = clf.predict(X_train)\n",
    "n_errors = (y_pred != y_train).sum()\n",
    "print('The number of prediction errors are', n_errors, ', equal to ', \"{:.2f}\".format(n_errors/y_train.shape[0]*100), '% out of', y_train.shape[0], 'data points')"
   ]
  }
 ],
 "metadata": {
  "kernelspec": {
   "display_name": "Python 3",
   "language": "python",
   "name": "python3"
  },
  "language_info": {
   "codemirror_mode": {
    "name": "ipython",
    "version": 3
   },
   "file_extension": ".py",
   "mimetype": "text/x-python",
   "name": "python",
   "nbconvert_exporter": "python",
   "pygments_lexer": "ipython3",
   "version": "3.7.9"
  }
 },
 "nbformat": 4,
 "nbformat_minor": 4
}
