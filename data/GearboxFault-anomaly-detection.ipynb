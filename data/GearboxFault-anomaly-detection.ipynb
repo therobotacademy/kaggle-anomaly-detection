{
 "cells": [
  {
   "cell_type": "code",
   "execution_count": 28,
   "metadata": {
    "scrolled": true
   },
   "outputs": [
    {
     "name": "stdout",
     "output_type": "stream",
     "text": [
      "./GearboxFault-anomaly-detection.ipynb\n",
      "./.ipynb_checkpoints/GearboxFault-anomaly-detection-checkpoint.ipynb\n",
      "./input/gearbox-fault-diagnosis-elaborated-datasets/.ipynb_checkpoints/GearboxFault-anomaly-detection-checkpoint.ipynb\n",
      "./input/gearbox-fault-diagnosis-elaborated-datasets/stdev/broken30hz_stdev_10.csv\n",
      "./input/gearbox-fault-diagnosis-elaborated-datasets/stdev/healthy30hz_stdev_100.csv\n",
      "./input/gearbox-fault-diagnosis-elaborated-datasets/stdev/healthy30hz_stdev_1000.csv\n",
      "./input/gearbox-fault-diagnosis-elaborated-datasets/stdev/broken30hz_stdev_1000.csv\n",
      "./input/gearbox-fault-diagnosis-elaborated-datasets/stdev/healthy30hz_stdev_10.csv\n",
      "./input/gearbox-fault-diagnosis-elaborated-datasets/stdev/broken30hz_stdev_100.csv\n",
      "./input/gearbox-fault-diagnosis-elaborated-datasets/raw/healthy30hz.csv\n",
      "./input/gearbox-fault-diagnosis-elaborated-datasets/raw/broken30hz.csv\n",
      "./input/gearbox-fault-diagnosis/BrokenTooth/b30hz40.csv\n",
      "./input/gearbox-fault-diagnosis/BrokenTooth/b30hz60.csv\n",
      "./input/gearbox-fault-diagnosis/BrokenTooth/b30hz30.csv\n",
      "./input/gearbox-fault-diagnosis/BrokenTooth/b30hz0.csv\n",
      "./input/gearbox-fault-diagnosis/BrokenTooth/b30hz20.csv\n",
      "./input/gearbox-fault-diagnosis/BrokenTooth/b30hz70.csv\n",
      "./input/gearbox-fault-diagnosis/BrokenTooth/b30hz10.csv\n",
      "./input/gearbox-fault-diagnosis/BrokenTooth/b30hz50.csv\n",
      "./input/gearbox-fault-diagnosis/BrokenTooth/b30hz80.csv\n",
      "./input/gearbox-fault-diagnosis/BrokenTooth/b30hz90.csv\n",
      "./input/gearbox-fault-diagnosis/Healthy/h30hz10.csv\n",
      "./input/gearbox-fault-diagnosis/Healthy/h30hz80.csv\n",
      "./input/gearbox-fault-diagnosis/Healthy/h30hz40.csv\n",
      "./input/gearbox-fault-diagnosis/Healthy/h30hz70.csv\n",
      "./input/gearbox-fault-diagnosis/Healthy/h30hz90.csv\n",
      "./input/gearbox-fault-diagnosis/Healthy/h30hz0.csv\n",
      "./input/gearbox-fault-diagnosis/Healthy/h30hz20.csv\n",
      "./input/gearbox-fault-diagnosis/Healthy/h30hz50.csv\n",
      "./input/gearbox-fault-diagnosis/Healthy/h30hz60.csv\n",
      "./input/gearbox-fault-diagnosis/Healthy/h30hz30.csv\n"
     ]
    }
   ],
   "source": [
    "import numpy as np # linear algebra\n",
    "import pandas as pd # data processing, CSV file I/O (e.g. pd.read_csv)\n",
    "from scipy import stats\n",
    "\n",
    "import matplotlib.pyplot as plt\n",
    "import matplotlib.gridspec as gridspec\n",
    "import seaborn as sns\n",
    "from pylab import rcParams\n",
    "\n",
    "import os\n",
    "for dirname, _, filenames in os.walk('.'):\n",
    "    for filename in filenames:\n",
    "        print(os.path.join(dirname, filename))"
   ]
  },
  {
   "cell_type": "code",
   "execution_count": 29,
   "metadata": {},
   "outputs": [
    {
     "data": {
      "text/html": [
       "<div>\n",
       "<style scoped>\n",
       "    .dataframe tbody tr th:only-of-type {\n",
       "        vertical-align: middle;\n",
       "    }\n",
       "\n",
       "    .dataframe tbody tr th {\n",
       "        vertical-align: top;\n",
       "    }\n",
       "\n",
       "    .dataframe thead th {\n",
       "        text-align: right;\n",
       "    }\n",
       "</style>\n",
       "<table border=\"1\" class=\"dataframe\">\n",
       "  <thead>\n",
       "    <tr style=\"text-align: right;\">\n",
       "      <th></th>\n",
       "      <th>a1</th>\n",
       "      <th>a2</th>\n",
       "      <th>a3</th>\n",
       "      <th>a4</th>\n",
       "    </tr>\n",
       "  </thead>\n",
       "  <tbody>\n",
       "    <tr>\n",
       "      <th>count</th>\n",
       "      <td>110848.000000</td>\n",
       "      <td>110848.000000</td>\n",
       "      <td>110848.000000</td>\n",
       "      <td>110848.000000</td>\n",
       "    </tr>\n",
       "    <tr>\n",
       "      <th>mean</th>\n",
       "      <td>0.010954</td>\n",
       "      <td>-0.002804</td>\n",
       "      <td>0.017420</td>\n",
       "      <td>0.000909</td>\n",
       "    </tr>\n",
       "    <tr>\n",
       "      <th>std</th>\n",
       "      <td>7.509111</td>\n",
       "      <td>4.448881</td>\n",
       "      <td>4.254003</td>\n",
       "      <td>4.733947</td>\n",
       "    </tr>\n",
       "    <tr>\n",
       "      <th>min</th>\n",
       "      <td>-49.327500</td>\n",
       "      <td>-30.246400</td>\n",
       "      <td>-29.167400</td>\n",
       "      <td>-24.816600</td>\n",
       "    </tr>\n",
       "    <tr>\n",
       "      <th>25%</th>\n",
       "      <td>-4.176882</td>\n",
       "      <td>-2.485520</td>\n",
       "      <td>-2.366932</td>\n",
       "      <td>-2.598865</td>\n",
       "    </tr>\n",
       "    <tr>\n",
       "      <th>50%</th>\n",
       "      <td>-0.179985</td>\n",
       "      <td>0.098413</td>\n",
       "      <td>0.070979</td>\n",
       "      <td>0.198095</td>\n",
       "    </tr>\n",
       "    <tr>\n",
       "      <th>75%</th>\n",
       "      <td>4.041210</td>\n",
       "      <td>2.572342</td>\n",
       "      <td>2.476345</td>\n",
       "      <td>2.756610</td>\n",
       "    </tr>\n",
       "    <tr>\n",
       "      <th>max</th>\n",
       "      <td>46.048900</td>\n",
       "      <td>29.568500</td>\n",
       "      <td>23.433600</td>\n",
       "      <td>30.478600</td>\n",
       "    </tr>\n",
       "  </tbody>\n",
       "</table>\n",
       "</div>"
      ],
      "text/plain": [
       "                  a1             a2             a3             a4\n",
       "count  110848.000000  110848.000000  110848.000000  110848.000000\n",
       "mean        0.010954      -0.002804       0.017420       0.000909\n",
       "std         7.509111       4.448881       4.254003       4.733947\n",
       "min       -49.327500     -30.246400     -29.167400     -24.816600\n",
       "25%        -4.176882      -2.485520      -2.366932      -2.598865\n",
       "50%        -0.179985       0.098413       0.070979       0.198095\n",
       "75%         4.041210       2.572342       2.476345       2.756610\n",
       "max        46.048900      29.568500      23.433600      30.478600"
      ]
     },
     "execution_count": 29,
     "metadata": {},
     "output_type": "execute_result"
    }
   ],
   "source": [
    "# LOAD DATASETS CORRESPONDING TO 50% LOAD\n",
    "# Healthy gearbox\n",
    "# ---------------\n",
    "healthy_dataset = pd.read_csv(\"./input/gearbox-fault-diagnosis/Healthy/h30hz50.csv\")\n",
    "healthy_dataset.describe()"
   ]
  },
  {
   "cell_type": "code",
   "execution_count": 30,
   "metadata": {},
   "outputs": [
    {
     "data": {
      "text/html": [
       "<div>\n",
       "<style scoped>\n",
       "    .dataframe tbody tr th:only-of-type {\n",
       "        vertical-align: middle;\n",
       "    }\n",
       "\n",
       "    .dataframe tbody tr th {\n",
       "        vertical-align: top;\n",
       "    }\n",
       "\n",
       "    .dataframe thead th {\n",
       "        text-align: right;\n",
       "    }\n",
       "</style>\n",
       "<table border=\"1\" class=\"dataframe\">\n",
       "  <thead>\n",
       "    <tr style=\"text-align: right;\">\n",
       "      <th></th>\n",
       "      <th>a1</th>\n",
       "      <th>a2</th>\n",
       "      <th>a3</th>\n",
       "      <th>a4</th>\n",
       "    </tr>\n",
       "  </thead>\n",
       "  <tbody>\n",
       "    <tr>\n",
       "      <th>count</th>\n",
       "      <td>94208.000000</td>\n",
       "      <td>94208.000000</td>\n",
       "      <td>94208.000000</td>\n",
       "      <td>94208.000000</td>\n",
       "    </tr>\n",
       "    <tr>\n",
       "      <th>mean</th>\n",
       "      <td>-0.009923</td>\n",
       "      <td>0.002384</td>\n",
       "      <td>-0.014733</td>\n",
       "      <td>0.005152</td>\n",
       "    </tr>\n",
       "    <tr>\n",
       "      <th>std</th>\n",
       "      <td>4.757347</td>\n",
       "      <td>4.355554</td>\n",
       "      <td>3.910209</td>\n",
       "      <td>4.596435</td>\n",
       "    </tr>\n",
       "    <tr>\n",
       "      <th>min</th>\n",
       "      <td>-24.310900</td>\n",
       "      <td>-28.579500</td>\n",
       "      <td>-18.605400</td>\n",
       "      <td>-27.301200</td>\n",
       "    </tr>\n",
       "    <tr>\n",
       "      <th>25%</th>\n",
       "      <td>-3.035935</td>\n",
       "      <td>-2.500610</td>\n",
       "      <td>-2.185568</td>\n",
       "      <td>-2.536582</td>\n",
       "    </tr>\n",
       "    <tr>\n",
       "      <th>50%</th>\n",
       "      <td>-0.131192</td>\n",
       "      <td>0.147278</td>\n",
       "      <td>0.057113</td>\n",
       "      <td>0.187541</td>\n",
       "    </tr>\n",
       "    <tr>\n",
       "      <th>75%</th>\n",
       "      <td>2.866013</td>\n",
       "      <td>2.737633</td>\n",
       "      <td>2.220335</td>\n",
       "      <td>2.689325</td>\n",
       "    </tr>\n",
       "    <tr>\n",
       "      <th>max</th>\n",
       "      <td>23.977600</td>\n",
       "      <td>24.503300</td>\n",
       "      <td>23.781100</td>\n",
       "      <td>27.605700</td>\n",
       "    </tr>\n",
       "  </tbody>\n",
       "</table>\n",
       "</div>"
      ],
      "text/plain": [
       "                 a1            a2            a3            a4\n",
       "count  94208.000000  94208.000000  94208.000000  94208.000000\n",
       "mean      -0.009923      0.002384     -0.014733      0.005152\n",
       "std        4.757347      4.355554      3.910209      4.596435\n",
       "min      -24.310900    -28.579500    -18.605400    -27.301200\n",
       "25%       -3.035935     -2.500610     -2.185568     -2.536582\n",
       "50%       -0.131192      0.147278      0.057113      0.187541\n",
       "75%        2.866013      2.737633      2.220335      2.689325\n",
       "max       23.977600     24.503300     23.781100     27.605700"
      ]
     },
     "execution_count": 30,
     "metadata": {},
     "output_type": "execute_result"
    }
   ],
   "source": [
    "# Broken gearbox\n",
    "# --------------\n",
    "broken_dataset = pd.read_csv(\"./input/gearbox-fault-diagnosis/BrokenTooth/b30hz50.csv\")\n",
    "broken_dataset.describe()"
   ]
  },
  {
   "cell_type": "code",
   "execution_count": 31,
   "metadata": {},
   "outputs": [
    {
     "data": {
      "text/plain": [
       "94208"
      ]
     },
     "execution_count": 31,
     "metadata": {},
     "output_type": "execute_result"
    }
   ],
   "source": [
    "lenght = min( broken_dataset.shape[0], healthy_dataset.shape[0] )\n",
    "lenght"
   ]
  },
  {
   "cell_type": "code",
   "execution_count": 32,
   "metadata": {},
   "outputs": [
    {
     "data": {
      "text/plain": [
       "0       -3.93468\n",
       "1        2.40285\n",
       "2        6.24273\n",
       "3       -3.99411\n",
       "4        1.76551\n",
       "          ...   \n",
       "94203   -1.46153\n",
       "94204   -3.87952\n",
       "94205    1.73315\n",
       "94206    8.97857\n",
       "94207    6.15826\n",
       "Name: a1, Length: 94208, dtype: float64"
      ]
     },
     "execution_count": 32,
     "metadata": {},
     "output_type": "execute_result"
    }
   ],
   "source": [
    "a1h = healthy_dataset.iloc[:lenght,0]\n",
    "a1b = broken_dataset.iloc[:lenght,0]\n",
    "a1b"
   ]
  },
  {
   "cell_type": "code",
   "execution_count": 33,
   "metadata": {},
   "outputs": [
    {
     "data": {
      "text/plain": [
       "<matplotlib.collections.PathCollection at 0x7fe009e99110>"
      ]
     },
     "execution_count": 33,
     "metadata": {},
     "output_type": "execute_result"
    },
    {
     "data": {
      "image/png": "[encoded data removed]",
      "text/plain": [
       "<Figure size 432x288 with 1 Axes>"
      ]
     },
     "metadata": {
      "needs_background": "light"
     },
     "output_type": "display_data"
    }
   ],
   "source": [
    "plt.scatter(a1h,a1b)"
   ]
  },
  {
   "cell_type": "markdown",
   "metadata": {},
   "source": [
    "# Let's rewind to source tutorial\n",
    "https://www.geeksforgeeks.org/machine-learning-for-anomaly-detection/"
   ]
  },
  {
   "cell_type": "code",
   "execution_count": 34,
   "metadata": {},
   "outputs": [],
   "source": [
    "import matplotlib.font_manager\n",
    "from pyod.models.knn import KNN \n",
    "from pyod.utils.data import generate_data, get_outliers_inliers"
   ]
  },
  {
   "cell_type": "code",
   "execution_count": 35,
   "metadata": {},
   "outputs": [],
   "source": [
    "# [1] CREATE SYNTHETIC DATA\n",
    "npoints = 300\n",
    "\n",
    "# Generating a random dataset with two features\n",
    "X_train, y_train = generate_data(n_train = npoints, train_only = True,\n",
    "                                                   n_features = 2)"
   ]
  },
  {
   "cell_type": "code",
   "execution_count": 36,
   "metadata": {},
   "outputs": [
    {
     "name": "stdout",
     "output_type": "stream",
     "text": [
      "There are 270 inliers and 30 outliers\n"
     ]
    }
   ],
   "source": [
    "# Storing the outliers and inliners in different numpy arrays\n",
    "X_outliers, X_inliers = get_outliers_inliers(X_train, y_train)\n",
    "n_inliers = len(X_inliers)\n",
    "n_outliers = len(X_outliers)\n",
    "print(\"There are\", n_inliers, \"inliers and\", n_outliers, \"outliers\")"
   ]
  },
  {
   "cell_type": "code",
   "execution_count": 37,
   "metadata": {},
   "outputs": [],
   "source": [
    "# Separating the two features\n",
    "f1 = X_train[:, [0]] # .reshape(-1, 1) # This destructures the array f1[:,0]\n",
    "f2 = X_train[:, [1]] # .reshape(-1, 1)"
   ]
  },
  {
   "cell_type": "code",
   "execution_count": 38,
   "metadata": {},
   "outputs": [
    {
     "data": {
      "text/plain": [
       "Text(0, 0.5, 'Feature 2')"
      ]
     },
     "execution_count": 38,
     "metadata": {},
     "output_type": "execute_result"
    },
    {
     "data": {
      "image/png": "[encoded data removed]",
      "text/plain": [
       "<Figure size 432x288 with 1 Axes>"
      ]
     },
     "metadata": {
      "needs_background": "light"
     },
     "output_type": "display_data"
    }
   ],
   "source": [
    "# [2] VISUALIZE THE DATA\n",
    "# Visualising the dataset\n",
    "# create a meshgrid\n",
    "xx, yy = np.meshgrid(np.linspace(-10, 10, 200),\n",
    "                     np.linspace(-10, 10, 200))\n",
    "  \n",
    "# scatter plot\n",
    "plt.scatter(f1, f2)\n",
    "plt.xlabel('Feature 1')\n",
    "plt.ylabel('Feature 2')"
   ]
  },
  {
   "cell_type": "code",
   "execution_count": 39,
   "metadata": {},
   "outputs": [
    {
     "name": "stderr",
     "output_type": "stream",
     "text": [
      "/opt/conda/lib/python3.7/site-packages/pyod/models/base.py:349: UserWarning: y should not be presented in unsupervised learning.\n",
      "  \"y should not be presented in unsupervised learning.\")\n"
     ]
    }
   ],
   "source": [
    "# [3] TRAIN THE MODEL AND EVALUATE\n",
    "\n",
    "# Setting the percentage of outliers\n",
    "outlier_fraction = 0.1\n",
    "\n",
    "# Training the classifier\n",
    "clf = KNN(contamination = outlier_fraction)\n",
    "clf.fit(X_train, y_train)\n",
    "  \n",
    "# You can print this to see all the prediciton scores\n",
    "scores_pred = clf.decision_function(X_train)*-1\n",
    "  \n",
    "y_pred = clf.predict(X_train)\n",
    "n_errors = (y_pred != y_train).sum()"
   ]
  },
  {
   "cell_type": "code",
   "execution_count": 40,
   "metadata": {},
   "outputs": [
    {
     "name": "stdout",
     "output_type": "stream",
     "text": [
      "The number of prediction errors are 0 , equal to  0.00 % out of 300 data points\n"
     ]
    }
   ],
   "source": [
    "# Counting the number of errors  \n",
    "print('The number of prediction errors are', n_errors, ', equal to ', \"{:.2f}\".format(n_errors/npoints), '% out of', npoints, 'data points')"
   ]
  },
  {
   "cell_type": "code",
   "execution_count": 41,
   "metadata": {},
   "outputs": [],
   "source": [
    "# [4] VISUALIZING THE PREDICTIONS\n",
    "\n",
    "# threshold value to consider a\n",
    "# datapoint inlier or outlier\n",
    "threshold = stats.scoreatpercentile(scores_pred, 100 * outlier_fraction)"
   ]
  },
  {
   "cell_type": "code",
   "execution_count": 42,
   "metadata": {},
   "outputs": [],
   "source": [
    "# decision function calculates the raw \n",
    "# anomaly score for every point\n",
    "Z = clf.decision_function(np.c_[xx.ravel(), yy.ravel()]) * -1\n",
    "Z = Z.reshape(xx.shape)"
   ]
  },
  {
   "cell_type": "code",
   "execution_count": 83,
   "metadata": {},
   "outputs": [
    {
     "data": {
      "image/png": "[encoded data removed]",
      "text/plain": [
       "<Figure size 432x288 with 1 Axes>"
      ]
     },
     "metadata": {
      "needs_background": "light"
     },
     "output_type": "display_data"
    }
   ],
   "source": [
    "# fill blue colormap from minimum anomaly\n",
    "# score to threshold value\n",
    "subplot = plt.subplot(1, 1, 1)\n",
    "subplot.contourf(xx, yy, Z, levels = np.linspace(Z.min(), \n",
    "                  threshold, 10), cmap = plt.cm.Blues_r)\n",
    "\n",
    "# draw red contour line where anomaly \n",
    "# score is equal to threshold\n",
    "a = subplot.contour(xx, yy, Z, levels =[threshold],\n",
    "                     linewidths = 2, colors ='red')\n",
    "\n",
    "# fill orange contour lines where range of anomaly\n",
    "# score is from threshold to maximum anomaly score\n",
    "subplot.contourf(xx, yy, Z, levels =[threshold, Z.max()], colors ='orange')\n",
    "  \n",
    "# scatter plot of inliers with white dots\n",
    "b = subplot.scatter(X_train[:-n_outliers, 0], X_train[:-n_outliers, 1],\n",
    "                                    c ='white', s = 20, edgecolor ='k') \n",
    "  \n",
    "# scatter plot of outliers with black dots\n",
    "c = subplot.scatter(X_train[-n_outliers:, 0], X_train[-n_outliers:, 1], \n",
    "                                    c ='black', s = 20, edgecolor ='k')\n",
    "subplot.axis('tight')\n",
    "\n",
    "subplot.legend(\n",
    "    [a.collections[0], b, c],\n",
    "    ['learned decision function', 'true inliers', 'true outliers'],\n",
    "    prop = matplotlib.font_manager.FontProperties(size = 10),\n",
    "    loc ='lower right')\n",
    "  \n",
    "subplot.set_title('K-Nearest Neighbours')\n",
    "subplot.set_xlim((-10, 10))\n",
    "subplot.set_ylim((-10, 10))\n",
    "plt.show() "
   ]
  },
  {
   "cell_type": "code",
   "execution_count": 44,
   "metadata": {},
   "outputs": [],
   "source": []
  }
 ],
 "metadata": {
  "kernelspec": {
   "display_name": "Python 3",
   "language": "python",
   "name": "python3"
  }
 },
 "nbformat": 4,
 "nbformat_minor": 4
}
