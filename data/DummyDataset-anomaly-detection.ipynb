{
 "cells": [
  {
   "cell_type": "code",
   "execution_count": 2,
   "metadata": {
    "scrolled": true
   },
   "outputs": [
    {
     "name": "stdout",
     "output_type": "stream",
     "text": [
      "./GearboxFault-anomaly-detection.ipynb\n",
      "./DummyDataset-anomaly-detection.ipynb\n",
      "./.ipynb_checkpoints/GearboxFault-anomaly-detection-checkpoint.ipynb\n",
      "./input/gearbox-fault-diagnosis-elaborated-datasets/.ipynb_checkpoints/GearboxFault-anomaly-detection-checkpoint.ipynb\n",
      "./input/gearbox-fault-diagnosis-elaborated-datasets/stdev/broken30hz_stdev_10.csv\n",
      "./input/gearbox-fault-diagnosis-elaborated-datasets/stdev/healthy30hz_stdev_100.csv\n",
      "./input/gearbox-fault-diagnosis-elaborated-datasets/stdev/healthy30hz_stdev_1000.csv\n",
      "./input/gearbox-fault-diagnosis-elaborated-datasets/stdev/broken30hz_stdev_1000.csv\n",
      "./input/gearbox-fault-diagnosis-elaborated-datasets/stdev/healthy30hz_stdev_10.csv\n",
      "./input/gearbox-fault-diagnosis-elaborated-datasets/stdev/broken30hz_stdev_100.csv\n",
      "./input/gearbox-fault-diagnosis-elaborated-datasets/raw/healthy30hz.csv\n",
      "./input/gearbox-fault-diagnosis-elaborated-datasets/raw/broken30hz.csv\n",
      "./input/gearbox-fault-diagnosis/BrokenTooth/b30hz40.csv\n",
      "./input/gearbox-fault-diagnosis/BrokenTooth/b30hz60.csv\n",
      "./input/gearbox-fault-diagnosis/BrokenTooth/b30hz30.csv\n",
      "./input/gearbox-fault-diagnosis/BrokenTooth/b30hz0.csv\n",
      "./input/gearbox-fault-diagnosis/BrokenTooth/b30hz20.csv\n",
      "./input/gearbox-fault-diagnosis/BrokenTooth/b30hz70.csv\n",
      "./input/gearbox-fault-diagnosis/BrokenTooth/b30hz10.csv\n",
      "./input/gearbox-fault-diagnosis/BrokenTooth/b30hz50.csv\n",
      "./input/gearbox-fault-diagnosis/BrokenTooth/b30hz80.csv\n",
      "./input/gearbox-fault-diagnosis/BrokenTooth/b30hz90.csv\n",
      "./input/gearbox-fault-diagnosis/Healthy/h30hz10.csv\n",
      "./input/gearbox-fault-diagnosis/Healthy/h30hz80.csv\n",
      "./input/gearbox-fault-diagnosis/Healthy/h30hz40.csv\n",
      "./input/gearbox-fault-diagnosis/Healthy/h30hz70.csv\n",
      "./input/gearbox-fault-diagnosis/Healthy/h30hz90.csv\n",
      "./input/gearbox-fault-diagnosis/Healthy/h30hz0.csv\n",
      "./input/gearbox-fault-diagnosis/Healthy/h30hz20.csv\n",
      "./input/gearbox-fault-diagnosis/Healthy/h30hz50.csv\n",
      "./input/gearbox-fault-diagnosis/Healthy/h30hz60.csv\n",
      "./input/gearbox-fault-diagnosis/Healthy/h30hz30.csv\n"
     ]
    }
   ],
   "source": [
    "import numpy as np\n",
    "from scipy import stats\n",
    "import matplotlib.pyplot as plt\n",
    "import matplotlib.font_manager\n",
    "\n",
    "import os\n",
    "for dirname, _, filenames in os.walk('.'):\n",
    "    for filename in filenames:\n",
    "        print(os.path.join(dirname, filename))"
   ]
  },
  {
   "cell_type": "markdown",
   "metadata": {},
   "source": [
    "# Let's rewind to source tutorial\n",
    "https://www.geeksforgeeks.org/machine-learning-for-anomaly-detection/"
   ]
  },
  {
   "cell_type": "code",
   "execution_count": 3,
   "metadata": {},
   "outputs": [],
   "source": [
    "import matplotlib.font_manager\n",
    "from pyod.models.knn import KNN \n",
    "from pyod.utils.data import generate_data, get_outliers_inliers"
   ]
  },
  {
   "cell_type": "code",
   "execution_count": 4,
   "metadata": {},
   "outputs": [],
   "source": [
    "# [1] CREATE SYNTHETIC DATA\n",
    "npoints = 300\n",
    "\n",
    "# Generating a random dataset with two features\n",
    "X_train, y_train = generate_data(n_train = npoints, train_only = True,\n",
    "                                                   n_features = 2)"
   ]
  },
  {
   "cell_type": "code",
   "execution_count": 5,
   "metadata": {},
   "outputs": [
    {
     "name": "stdout",
     "output_type": "stream",
     "text": [
      "There are 270 inliers and 30 outliers\n"
     ]
    }
   ],
   "source": [
    "# Storing the outliers and inliners in different numpy arrays\n",
    "X_outliers, X_inliers = get_outliers_inliers(X_train, y_train)\n",
    "n_inliers = len(X_inliers)\n",
    "n_outliers = len(X_outliers)\n",
    "print(\"There are\", n_inliers, \"inliers and\", n_outliers, \"outliers\")"
   ]
  },
  {
   "cell_type": "code",
   "execution_count": 6,
   "metadata": {},
   "outputs": [],
   "source": [
    "# Separating the two features\n",
    "f1 = X_train[:, [0]] # .reshape(-1, 1) # This destructures the array f1[:,0]\n",
    "f2 = X_train[:, [1]] # .reshape(-1, 1)"
   ]
  },
  {
   "cell_type": "code",
   "execution_count": 7,
   "metadata": {},
   "outputs": [
    {
     "data": {
      "text/plain": [
       "Text(0, 0.5, 'Feature 2')"
      ]
     },
     "execution_count": 7,
     "metadata": {},
     "output_type": "execute_result"
    },
    {
     "data": {
      "image/png": "[encoded data removed]",
      "text/plain": [
       "<Figure size 432x288 with 1 Axes>"
      ]
     },
     "metadata": {
      "needs_background": "light"
     },
     "output_type": "display_data"
    }
   ],
   "source": [
    "# [2] VISUALIZE THE DATA\n",
    "# Visualising the dataset\n",
    "# create a meshgrid\n",
    "xx, yy = np.meshgrid(np.linspace(-10, 10, 200),\n",
    "                     np.linspace(-10, 10, 200))\n",
    "  \n",
    "# scatter plot\n",
    "plt.scatter(f1, f2)\n",
    "plt.xlabel('Feature 1')\n",
    "plt.ylabel('Feature 2')"
   ]
  },
  {
   "cell_type": "code",
   "execution_count": 8,
   "metadata": {},
   "outputs": [
    {
     "name": "stderr",
     "output_type": "stream",
     "text": [
      "/opt/conda/lib/python3.7/site-packages/pyod/models/base.py:349: UserWarning: y should not be presented in unsupervised learning.\n",
      "  \"y should not be presented in unsupervised learning.\")\n"
     ]
    }
   ],
   "source": [
    "# [3] TRAIN THE MODEL AND EVALUATE\n",
    "\n",
    "# Setting the percentage of outliers\n",
    "outlier_fraction = 0.1\n",
    "\n",
    "# Training the classifier\n",
    "clf = KNN(contamination = outlier_fraction)\n",
    "clf.fit(X_train, y_train)\n",
    "  \n",
    "# You can print this to see all the prediciton scores\n",
    "scores_pred = clf.decision_function(X_train)*-1\n",
    "  \n",
    "y_pred = clf.predict(X_train)\n",
    "n_errors = (y_pred != y_train).sum()"
   ]
  },
  {
   "cell_type": "code",
   "execution_count": 9,
   "metadata": {},
   "outputs": [
    {
     "name": "stdout",
     "output_type": "stream",
     "text": [
      "The number of prediction errors are 2 , equal to  0.01 % out of 300 data points\n"
     ]
    }
   ],
   "source": [
    "# Counting the number of errors  \n",
    "print('The number of prediction errors are', n_errors, ', equal to ', \"{:.2f}\".format(n_errors/npoints), '% out of', npoints, 'data points')"
   ]
  },
  {
   "cell_type": "code",
   "execution_count": 10,
   "metadata": {},
   "outputs": [],
   "source": [
    "# [4] VISUALIZING THE PREDICTIONS\n",
    "\n",
    "# threshold value to consider a\n",
    "# datapoint inlier or outlier\n",
    "threshold = stats.scoreatpercentile(scores_pred, 100 * outlier_fraction)"
   ]
  },
  {
   "cell_type": "code",
   "execution_count": 11,
   "metadata": {},
   "outputs": [],
   "source": [
    "# decision function calculates the raw \n",
    "# anomaly score for every point\n",
    "Z = clf.decision_function(np.c_[xx.ravel(), yy.ravel()]) * -1\n",
    "Z = Z.reshape(xx.shape)"
   ]
  },
  {
   "cell_type": "code",
   "execution_count": 12,
   "metadata": {},
   "outputs": [
    {
     "data": {
      "image/png": "[encoded data removed]",
      "text/plain": [
       "<Figure size 432x288 with 1 Axes>"
      ]
     },
     "metadata": {
      "needs_background": "light"
     },
     "output_type": "display_data"
    }
   ],
   "source": [
    "# fill blue colormap from minimum anomaly\n",
    "# score to threshold value\n",
    "subplot = plt.subplot(1, 1, 1)\n",
    "subplot.contourf(xx, yy, Z, levels = np.linspace(Z.min(), \n",
    "                  threshold, 10), cmap = plt.cm.Blues_r)\n",
    "\n",
    "# draw red contour line where anomaly \n",
    "# score is equal to threshold\n",
    "a = subplot.contour(xx, yy, Z, levels =[threshold],\n",
    "                     linewidths = 2, colors ='red')\n",
    "\n",
    "# fill orange contour lines where range of anomaly\n",
    "# score is from threshold to maximum anomaly score\n",
    "subplot.contourf(xx, yy, Z, levels =[threshold, Z.max()], colors ='orange')\n",
    "  \n",
    "# scatter plot of inliers with white dots\n",
    "b = subplot.scatter(X_train[:-n_outliers, 0], X_train[:-n_outliers, 1],\n",
    "                                    c ='white', s = 20, edgecolor ='k') \n",
    "  \n",
    "# scatter plot of outliers with black dots\n",
    "c = subplot.scatter(X_train[-n_outliers:, 0], X_train[-n_outliers:, 1], \n",
    "                                    c ='black', s = 20, edgecolor ='k')\n",
    "subplot.axis('tight')\n",
    "\n",
    "subplot.legend(\n",
    "    [a.collections[0], b, c],\n",
    "    ['learned decision function', 'true inliers', 'true outliers'],\n",
    "    prop = matplotlib.font_manager.FontProperties(size = 10),\n",
    "    loc ='lower right')\n",
    "  \n",
    "subplot.set_title('K-Nearest Neighbours')\n",
    "subplot.set_xlim((-10, 10))\n",
    "subplot.set_ylim((-10, 10))\n",
    "plt.show() "
   ]
  }
 ],
 "metadata": {
  "kernelspec": {
   "display_name": "Python 3",
   "language": "python",
   "name": "python3"
  },
  "language_info": {
   "codemirror_mode": {
    "name": "ipython",
    "version": 3
   },
   "file_extension": ".py",
   "mimetype": "text/x-python",
   "name": "python",
   "nbconvert_exporter": "python",
   "pygments_lexer": "ipython3",
   "version": "3.7.9"
  }
 },
 "nbformat": 4,
 "nbformat_minor": 4
}
